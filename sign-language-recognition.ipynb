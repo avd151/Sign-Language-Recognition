{
 "cells": [
  {
   "cell_type": "markdown",
   "id": "bd80fc40",
   "metadata": {},
   "source": [
    "## Name: Apurva Deshpande \n",
    "## MIS: 111903020\n",
    "\n",
    "## Problem Statement - Detect/ Recognize Sign Language from the Image and Predict the Corresponding Alphabet\n",
    "\n",
    "\n",
    "## Dataset Used : [Dataset](https://www.kaggle.com/datasets/datamunge/sign-language-mnist)\n",
    "\n",
    "**Features of Dataset**:\n",
    "1. No cases for the letters J & Z (Reason: J & Z require motion)\n",
    "2. GrayScale Images\n",
    "3. Pixel Values Range From 0 to 255\n",
    "4. Each image contains 784 Pixels\n",
    "\n",
    "## Deep Learning Model used: Convolutional Neural Networks (CNN)"
   ]
  },
  {
   "cell_type": "code",
   "execution_count": 1,
   "id": "15daf294",
   "metadata": {},
   "outputs": [
    {
     "name": "stderr",
     "output_type": "stream",
     "text": [
      "Using TensorFlow backend.\n"
     ]
    }
   ],
   "source": [
    "# Importing required libraries\n",
    "\n",
    "from sklearn.preprocessing import LabelBinarizer\n",
    "from tensorflow import keras\n",
    "from keras.utils import plot_model\n",
    "\n",
    "import tensorflow as tf\n",
    "import numpy as np\n",
    "import pandas as pd\n",
    "import matplotlib.pyplot as plt\n",
    "import pickle"
   ]
  },
  {
   "cell_type": "code",
   "execution_count": 2,
   "id": "dafa44b9",
   "metadata": {},
   "outputs": [],
   "source": [
    "# loading the training data (X+y) (images, labels)\n",
    "train_df = pd.read_csv('data/alphabet/sign_mnist_train.csv')"
   ]
  },
  {
   "cell_type": "code",
   "execution_count": 3,
   "id": "d7669304",
   "metadata": {},
   "outputs": [],
   "source": [
    "# Shuffiling the training dataset randomly\n",
    "train_df = train_df.sample(frac=1, random_state=42) "
   ]
  },
  {
   "cell_type": "code",
   "execution_count": 4,
   "id": "8269e216",
   "metadata": {},
   "outputs": [],
   "source": [
    "# Split the dataset into X, y (number of pixels of each image, label of the image)\n",
    "# X = array of int pixel values, y = int value of label (0 to 25 - for A to Z)\n",
    "X, y = train_df.drop('label', axis=1), train_df['label'] "
   ]
  },
  {
   "cell_type": "code",
   "execution_count": 5,
   "id": "da58cd49",
   "metadata": {},
   "outputs": [
    {
     "data": {
      "text/plain": [
       "(array([dtype('int64')], dtype=object), dtype('int64'))"
      ]
     },
     "execution_count": 5,
     "metadata": {},
     "output_type": "execute_result"
    }
   ],
   "source": [
    "# Find data type of X and y\n",
    "np.unique(X.dtypes), y.dtype"
   ]
  },
  {
   "cell_type": "code",
   "execution_count": 6,
   "id": "22b62d7a",
   "metadata": {},
   "outputs": [],
   "source": [
    "# Binarize labels in a one-vs-all fashion (build one-hot encoded vectors from pixel values of each image)\n",
    "label_binarizer = LabelBinarizer() \n",
    "y = label_binarizer.fit_transform(y)"
   ]
  },
  {
   "cell_type": "code",
   "execution_count": 7,
   "id": "6ab353e6",
   "metadata": {},
   "outputs": [
    {
     "name": "stdout",
     "output_type": "stream",
     "text": [
      "[[0 0 0 ... 0 0 1]\n",
      " [0 0 0 ... 0 0 0]\n",
      " [0 0 0 ... 0 0 0]\n",
      " ...\n",
      " [0 0 0 ... 0 0 0]\n",
      " [0 0 0 ... 0 0 0]\n",
      " [0 0 0 ... 0 0 0]]\n"
     ]
    }
   ],
   "source": [
    "print(y)"
   ]
  },
  {
   "cell_type": "code",
   "execution_count": 8,
   "id": "3cc4add2",
   "metadata": {},
   "outputs": [],
   "source": [
    "# Normalizing the training data and converting the data type to float\n",
    "X = X/255.0 "
   ]
  },
  {
   "cell_type": "code",
   "execution_count": 9,
   "id": "d6700a24",
   "metadata": {},
   "outputs": [
    {
     "data": {
      "text/plain": [
       "array([dtype('float64')], dtype=object)"
      ]
     },
     "execution_count": 9,
     "metadata": {},
     "output_type": "execute_result"
    }
   ],
   "source": [
    "np.unique(X.dtypes)"
   ]
  },
  {
   "cell_type": "code",
   "execution_count": 10,
   "id": "c9872eca",
   "metadata": {},
   "outputs": [],
   "source": [
    "# Converting the 1-D array of 784 pixels to (28, 28, 1) Image\n",
    "# (28, 28) represents the spatial dimensions of the image & 1 specifies that the image is grayscale\n",
    "X = tf.reshape(X, [-1, 28, 28, 1])"
   ]
  },
  {
   "cell_type": "code",
   "execution_count": 11,
   "id": "c6a7f19f",
   "metadata": {},
   "outputs": [
    {
     "data": {
      "text/plain": [
       "(TensorShape([27455, 28, 28, 1]), (27455, 24))"
      ]
     },
     "execution_count": 11,
     "metadata": {},
     "output_type": "execute_result"
    }
   ],
   "source": [
    "X.shape, y.shape"
   ]
  },
  {
   "cell_type": "code",
   "execution_count": 12,
   "id": "f950e21c",
   "metadata": {},
   "outputs": [],
   "source": [
    "# Generating a validation set = dataset to find and optimize best model to predict alphabets from sign language images\n",
    "X_train, X_valid = X[:25000], X[25000:]\n",
    "y_train, y_valid = y[:25000], y[25000:]"
   ]
  },
  {
   "cell_type": "code",
   "execution_count": 13,
   "id": "f567ca9b",
   "metadata": {},
   "outputs": [
    {
     "data": {
      "text/plain": [
       "TensorShape([28, 28, 1])"
      ]
     },
     "execution_count": 13,
     "metadata": {},
     "output_type": "execute_result"
    }
   ],
   "source": [
    "X_train[0].shape"
   ]
  },
  {
   "cell_type": "code",
   "execution_count": 24,
   "id": "09046338",
   "metadata": {},
   "outputs": [],
   "source": [
    "# Defining the CNN\n",
    "\n",
    "# 9 layers including - 3 stacked pairs of conventional CNN Layer and Max Pooling Layer\n",
    "# using relu activation function\n",
    "# towards the end - output of conventional layers is flattened and given as input to dense CNN layers, using softmax \n",
    "# activation function\n",
    "model = keras.models.Sequential()\n",
    "model.add(keras.layers.Conv2D(32, (5, 5), padding='same', activation='relu', input_shape=(28, 28, 1)))\n",
    "model.add(keras.layers.MaxPooling2D(pool_size=(2, 2)))\n",
    "model.add(keras.layers.Conv2D(64, (5, 5), padding='same', activation='relu'))\n",
    "model.add(keras.layers.MaxPooling2D(pool_size=(2, 2)))\n",
    "model.add(keras.layers.Conv2D(128, (5, 5), padding='same', activation='relu'))\n",
    "model.add(keras.layers.MaxPooling2D(pool_size=(2, 2)))\n",
    "model.add(keras.layers.Flatten())\n",
    "model.add(keras.layers.Dense(128, activation='relu'))\n",
    "model.add(keras.layers.Dense(24, activation='softmax'))"
   ]
  },
  {
   "cell_type": "code",
   "execution_count": 25,
   "id": "333da112",
   "metadata": {
    "scrolled": true
   },
   "outputs": [
    {
     "name": "stdout",
     "output_type": "stream",
     "text": [
      "Model: \"sequential\"\n",
      "_________________________________________________________________\n",
      "Layer (type)                 Output Shape              Param #   \n",
      "=================================================================\n",
      "conv2d (Conv2D)              (None, 28, 28, 32)        832       \n",
      "_________________________________________________________________\n",
      "max_pooling2d (MaxPooling2D) (None, 14, 14, 32)        0         \n",
      "_________________________________________________________________\n",
      "conv2d_1 (Conv2D)            (None, 14, 14, 64)        51264     \n",
      "_________________________________________________________________\n",
      "max_pooling2d_1 (MaxPooling2 (None, 7, 7, 64)          0         \n",
      "_________________________________________________________________\n",
      "conv2d_2 (Conv2D)            (None, 7, 7, 128)         204928    \n",
      "_________________________________________________________________\n",
      "max_pooling2d_2 (MaxPooling2 (None, 3, 3, 128)         0         \n",
      "_________________________________________________________________\n",
      "flatten (Flatten)            (None, 1152)              0         \n",
      "_________________________________________________________________\n",
      "dense (Dense)                (None, 128)               147584    \n",
      "_________________________________________________________________\n",
      "dense_1 (Dense)              (None, 24)                3096      \n",
      "=================================================================\n",
      "Total params: 407,704\n",
      "Trainable params: 407,704\n",
      "Non-trainable params: 0\n",
      "_________________________________________________________________\n"
     ]
    }
   ],
   "source": [
    "# Print model summary displaying output & parameters of each layer, loss and accuracy\n",
    "model.summary()"
   ]
  },
  {
   "cell_type": "code",
   "execution_count": 26,
   "id": "9acfb354",
   "metadata": {},
   "outputs": [],
   "source": [
    "#loss = categorical cross entropy (as we are working on image classification problem)\n",
    "# evaluation metrics used = accuracy = no. of correctly predicted samples / total no. of samples\n",
    "# optimizer used = adam\n",
    "model.compile(loss='categorical_crossentropy', optimizer='adam', metrics=['accuracy'])"
   ]
  },
  {
   "cell_type": "code",
   "execution_count": 27,
   "id": "f9ebd211",
   "metadata": {},
   "outputs": [],
   "source": [
    "# Saves the best model so far in best model file\n",
    "save_best_cb = keras.callbacks.ModelCheckpoint('models/final-model', save_best_only=True) \n",
    "# Interupts training when there is no progress\n",
    "early_stopping_cb = keras.callbacks.EarlyStopping(patience=5)"
   ]
  },
  {
   "cell_type": "code",
   "execution_count": 28,
   "id": "32234a1d",
   "metadata": {},
   "outputs": [],
   "source": [
    "X_valid = np.asarray(X_valid).astype('float32')\n",
    "y_valid = np.asarray(y_valid).astype('float32')\n",
    "X_train = np.asarray(X_train).astype('float32')\n",
    "y_train = np.asarray(y_train).astype('float32')"
   ]
  },
  {
   "cell_type": "code",
   "execution_count": 30,
   "id": "4451f28a",
   "metadata": {
    "scrolled": true
   },
   "outputs": [
    {
     "name": "stdout",
     "output_type": "stream",
     "text": [
      "Epoch 1/20\n",
      "781/782 [============================>.] - ETA: 0s - loss: 0.2880 - accuracy: 0.9082WARNING:tensorflow:From c:\\users\\apurva deshpande\\appdata\\local\\programs\\python\\python38\\lib\\site-packages\\tensorflow\\python\\training\\tracking\\tracking.py:111: Model.state_updates (from tensorflow.python.keras.engine.training) is deprecated and will be removed in a future version.\n",
      "Instructions for updating:\n",
      "This property should not be used in TensorFlow 2.0, as updates are applied automatically.\n",
      "WARNING:tensorflow:From c:\\users\\apurva deshpande\\appdata\\local\\programs\\python\\python38\\lib\\site-packages\\tensorflow\\python\\training\\tracking\\tracking.py:111: Layer.updates (from tensorflow.python.keras.engine.base_layer) is deprecated and will be removed in a future version.\n",
      "Instructions for updating:\n",
      "This property should not be used in TensorFlow 2.0, as updates are applied automatically.\n",
      "INFO:tensorflow:Assets written to: models\\final-model\\assets\n",
      "782/782 [==============================] - 72s 92ms/step - loss: 0.2879 - accuracy: 0.9082 - val_loss: 0.0088 - val_accuracy: 0.9996\n",
      "Epoch 2/20\n",
      "782/782 [==============================] - 62s 79ms/step - loss: 0.0117 - accuracy: 0.9970 - val_loss: 0.0358 - val_accuracy: 0.9874\n",
      "Epoch 3/20\n",
      "781/782 [============================>.] - ETA: 0s - loss: 0.0130 - accuracy: 0.9962INFO:tensorflow:Assets written to: models\\final-model\\assets\n",
      "782/782 [==============================] - 66s 85ms/step - loss: 0.0130 - accuracy: 0.9962 - val_loss: 1.9614e-04 - val_accuracy: 1.0000\n",
      "Epoch 4/20\n",
      "781/782 [============================>.] - ETA: 0s - loss: 9.5628e-05 - accuracy: 1.0000INFO:tensorflow:Assets written to: models\\final-model\\assets\n",
      "782/782 [==============================] - 68s 87ms/step - loss: 9.5636e-05 - accuracy: 1.0000 - val_loss: 7.5790e-05 - val_accuracy: 1.0000\n",
      "Epoch 5/20\n",
      "781/782 [============================>.] - ETA: 0s - loss: 4.5735e-05 - accuracy: 1.0000INFO:tensorflow:Assets written to: models\\final-model\\assets\n",
      "782/782 [==============================] - 71s 91ms/step - loss: 4.5721e-05 - accuracy: 1.0000 - val_loss: 4.1837e-05 - val_accuracy: 1.0000\n",
      "Epoch 6/20\n",
      "781/782 [============================>.] - ETA: 0s - loss: 2.6417e-05 - accuracy: 1.0000INFO:tensorflow:Assets written to: models\\final-model\\assets\n",
      "782/782 [==============================] - 75s 96ms/step - loss: 2.6411e-05 - accuracy: 1.0000 - val_loss: 2.4822e-05 - val_accuracy: 1.0000\n",
      "Epoch 7/20\n",
      "781/782 [============================>.] - ETA: 0s - loss: 1.5968e-05 - accuracy: 1.0000INFO:tensorflow:Assets written to: models\\final-model\\assets\n",
      "782/782 [==============================] - 75s 96ms/step - loss: 1.5963e-05 - accuracy: 1.0000 - val_loss: 1.5650e-05 - val_accuracy: 1.0000\n",
      "Epoch 8/20\n",
      "781/782 [============================>.] - ETA: 0s - loss: 1.0466e-05 - accuracy: 1.0000INFO:tensorflow:Assets written to: models\\final-model\\assets\n",
      "782/782 [==============================] - 73s 93ms/step - loss: 1.0467e-05 - accuracy: 1.0000 - val_loss: 1.0422e-05 - val_accuracy: 1.0000\n",
      "Epoch 9/20\n",
      "781/782 [============================>.] - ETA: 0s - loss: 6.8901e-06 - accuracy: 1.0000INFO:tensorflow:Assets written to: models\\final-model\\assets\n",
      "782/782 [==============================] - 77s 99ms/step - loss: 6.8905e-06 - accuracy: 1.0000 - val_loss: 6.8463e-06 - val_accuracy: 1.0000\n",
      "Epoch 10/20\n",
      "781/782 [============================>.] - ETA: 0s - loss: 4.4962e-06 - accuracy: 1.0000INFO:tensorflow:Assets written to: models\\final-model\\assets\n",
      "782/782 [==============================] - 81s 103ms/step - loss: 4.4953e-06 - accuracy: 1.0000 - val_loss: 4.7791e-06 - val_accuracy: 1.0000\n",
      "Epoch 11/20\n",
      "781/782 [============================>.] - ETA: 0s - loss: 2.9897e-06 - accuracy: 1.0000INFO:tensorflow:Assets written to: models\\final-model\\assets\n",
      "782/782 [==============================] - 75s 96ms/step - loss: 2.9888e-06 - accuracy: 1.0000 - val_loss: 3.3473e-06 - val_accuracy: 1.0000\n",
      "Epoch 12/20\n",
      "781/782 [============================>.] - ETA: 0s - loss: 1.9683e-06 - accuracy: 1.0000INFO:tensorflow:Assets written to: models\\final-model\\assets\n",
      "782/782 [==============================] - 73s 94ms/step - loss: 1.9716e-06 - accuracy: 1.0000 - val_loss: 2.1408e-06 - val_accuracy: 1.0000\n",
      "Epoch 13/20\n",
      "782/782 [==============================] - ETA: 0s - loss: 1.3872e-06 - accuracy: 1.0000INFO:tensorflow:Assets written to: models\\final-model\\assets\n",
      "782/782 [==============================] - 104s 133ms/step - loss: 1.3872e-06 - accuracy: 1.0000 - val_loss: 1.3357e-06 - val_accuracy: 1.0000\n",
      "Epoch 14/20\n",
      "781/782 [============================>.] - ETA: 0s - loss: 8.7984e-07 - accuracy: 1.0000INFO:tensorflow:Assets written to: models\\final-model\\assets\n",
      "782/782 [==============================] - 95s 122ms/step - loss: 8.7965e-07 - accuracy: 1.0000 - val_loss: 9.9843e-07 - val_accuracy: 1.0000\n",
      "Epoch 15/20\n",
      "781/782 [============================>.] - ETA: 0s - loss: 5.8114e-07 - accuracy: 1.0000INFO:tensorflow:Assets written to: models\\final-model\\assets\n",
      "782/782 [==============================] - 82s 105ms/step - loss: 5.8097e-07 - accuracy: 1.0000 - val_loss: 6.1362e-07 - val_accuracy: 1.0000\n",
      "Epoch 16/20\n",
      "782/782 [==============================] - 76s 97ms/step - loss: 5.2775e-07 - accuracy: 1.0000 - val_loss: 0.0025 - val_accuracy: 0.9996\n",
      "Epoch 17/20\n",
      "782/782 [==============================] - 77s 98ms/step - loss: 0.0539 - accuracy: 0.9848 - val_loss: 1.5448e-04 - val_accuracy: 1.0000\n",
      "Epoch 18/20\n",
      "782/782 [==============================] - 75s 96ms/step - loss: 7.6308e-05 - accuracy: 1.0000 - val_loss: 5.2008e-05 - val_accuracy: 1.0000\n",
      "Epoch 19/20\n",
      "782/782 [==============================] - 77s 98ms/step - loss: 3.1836e-05 - accuracy: 1.0000 - val_loss: 2.9873e-05 - val_accuracy: 1.0000\n",
      "Epoch 20/20\n",
      "782/782 [==============================] - 75s 96ms/step - loss: 1.8578e-05 - accuracy: 1.0000 - val_loss: 1.8904e-05 - val_accuracy: 1.0000\n"
     ]
    }
   ],
   "source": [
    "# The model is same is 'models/final-model'\n",
    "# The history object is 'models/final-model-history'\n",
    "history = model.fit(X_train, y_train, epochs=20, validation_data=(X_valid, y_valid), callbacks=[save_best_cb, early_stopping_cb])"
   ]
  },
  {
   "cell_type": "code",
   "execution_count": 32,
   "id": "c5e12a49",
   "metadata": {
    "scrolled": true
   },
   "outputs": [
    {
     "data": {
      "text/plain": [
       "{'loss': [0.2879446744918823,\n",
       "  0.011661103926599026,\n",
       "  0.013045715168118477,\n",
       "  9.563583444105461e-05,\n",
       "  4.572072430164553e-05,\n",
       "  2.6410960344946943e-05,\n",
       "  1.5963025361998007e-05,\n",
       "  1.0467092579347081e-05,\n",
       "  6.890517852298217e-06,\n",
       "  4.495299890550086e-06,\n",
       "  2.988788764923811e-06,\n",
       "  1.97158533410402e-06,\n",
       "  1.3871598412151798e-06,\n",
       "  8.796487804829667e-07,\n",
       "  5.809738468087744e-07,\n",
       "  5.277547643345315e-07,\n",
       "  0.053940027952194214,\n",
       "  7.630822801729664e-05,\n",
       "  3.183564331266098e-05,\n",
       "  1.8578242816147394e-05],\n",
       " 'accuracy': [0.9082000255584717,\n",
       "  0.9970399737358093,\n",
       "  0.9962000250816345,\n",
       "  1.0,\n",
       "  1.0,\n",
       "  1.0,\n",
       "  1.0,\n",
       "  1.0,\n",
       "  1.0,\n",
       "  1.0,\n",
       "  1.0,\n",
       "  1.0,\n",
       "  1.0,\n",
       "  1.0,\n",
       "  1.0,\n",
       "  1.0,\n",
       "  0.9847999811172485,\n",
       "  1.0,\n",
       "  1.0,\n",
       "  1.0],\n",
       " 'val_loss': [0.008834658190608025,\n",
       "  0.03578425198793411,\n",
       "  0.00019614427583292127,\n",
       "  7.579039811389521e-05,\n",
       "  4.183723285677843e-05,\n",
       "  2.4821785700623877e-05,\n",
       "  1.5650055502192117e-05,\n",
       "  1.0421560546092223e-05,\n",
       "  6.846281394246034e-06,\n",
       "  4.779095434059855e-06,\n",
       "  3.347302708789357e-06,\n",
       "  2.140803871952812e-06,\n",
       "  1.335706542704429e-06,\n",
       "  9.98430095933145e-07,\n",
       "  6.136189654171176e-07,\n",
       "  0.002452215878292918,\n",
       "  0.00015447763144038618,\n",
       "  5.200763916946016e-05,\n",
       "  2.9872531740693375e-05,\n",
       "  1.8903636373579502e-05],\n",
       " 'val_accuracy': [0.999592661857605,\n",
       "  0.9873726963996887,\n",
       "  1.0,\n",
       "  1.0,\n",
       "  1.0,\n",
       "  1.0,\n",
       "  1.0,\n",
       "  1.0,\n",
       "  1.0,\n",
       "  1.0,\n",
       "  1.0,\n",
       "  1.0,\n",
       "  1.0,\n",
       "  1.0,\n",
       "  1.0,\n",
       "  0.999592661857605,\n",
       "  1.0,\n",
       "  1.0,\n",
       "  1.0,\n",
       "  1.0]}"
      ]
     },
     "execution_count": 32,
     "metadata": {},
     "output_type": "execute_result"
    }
   ],
   "source": [
    "history.history # Contains the training related information for each epoch"
   ]
  },
  {
   "cell_type": "code",
   "execution_count": 33,
   "id": "c3aa7673",
   "metadata": {},
   "outputs": [],
   "source": [
    "# Saving the history object\n",
    "\n",
    "with open('models/final-model-history', 'wb') as history_file:\n",
    "    pickle.dump(history.history, history_file)"
   ]
  },
  {
   "cell_type": "code",
   "execution_count": 34,
   "id": "acc714c0",
   "metadata": {
    "scrolled": true
   },
   "outputs": [
    {
     "data": {
      "text/plain": [
       "{'loss': [0.2879446744918823,\n",
       "  0.011661103926599026,\n",
       "  0.013045715168118477,\n",
       "  9.563583444105461e-05,\n",
       "  4.572072430164553e-05,\n",
       "  2.6410960344946943e-05,\n",
       "  1.5963025361998007e-05,\n",
       "  1.0467092579347081e-05,\n",
       "  6.890517852298217e-06,\n",
       "  4.495299890550086e-06,\n",
       "  2.988788764923811e-06,\n",
       "  1.97158533410402e-06,\n",
       "  1.3871598412151798e-06,\n",
       "  8.796487804829667e-07,\n",
       "  5.809738468087744e-07,\n",
       "  5.277547643345315e-07,\n",
       "  0.053940027952194214,\n",
       "  7.630822801729664e-05,\n",
       "  3.183564331266098e-05,\n",
       "  1.8578242816147394e-05],\n",
       " 'accuracy': [0.9082000255584717,\n",
       "  0.9970399737358093,\n",
       "  0.9962000250816345,\n",
       "  1.0,\n",
       "  1.0,\n",
       "  1.0,\n",
       "  1.0,\n",
       "  1.0,\n",
       "  1.0,\n",
       "  1.0,\n",
       "  1.0,\n",
       "  1.0,\n",
       "  1.0,\n",
       "  1.0,\n",
       "  1.0,\n",
       "  1.0,\n",
       "  0.9847999811172485,\n",
       "  1.0,\n",
       "  1.0,\n",
       "  1.0],\n",
       " 'val_loss': [0.008834658190608025,\n",
       "  0.03578425198793411,\n",
       "  0.00019614427583292127,\n",
       "  7.579039811389521e-05,\n",
       "  4.183723285677843e-05,\n",
       "  2.4821785700623877e-05,\n",
       "  1.5650055502192117e-05,\n",
       "  1.0421560546092223e-05,\n",
       "  6.846281394246034e-06,\n",
       "  4.779095434059855e-06,\n",
       "  3.347302708789357e-06,\n",
       "  2.140803871952812e-06,\n",
       "  1.335706542704429e-06,\n",
       "  9.98430095933145e-07,\n",
       "  6.136189654171176e-07,\n",
       "  0.002452215878292918,\n",
       "  0.00015447763144038618,\n",
       "  5.200763916946016e-05,\n",
       "  2.9872531740693375e-05,\n",
       "  1.8903636373579502e-05],\n",
       " 'val_accuracy': [0.999592661857605,\n",
       "  0.9873726963996887,\n",
       "  1.0,\n",
       "  1.0,\n",
       "  1.0,\n",
       "  1.0,\n",
       "  1.0,\n",
       "  1.0,\n",
       "  1.0,\n",
       "  1.0,\n",
       "  1.0,\n",
       "  1.0,\n",
       "  1.0,\n",
       "  1.0,\n",
       "  1.0,\n",
       "  0.999592661857605,\n",
       "  1.0,\n",
       "  1.0,\n",
       "  1.0,\n",
       "  1.0]}"
      ]
     },
     "execution_count": 34,
     "metadata": {},
     "output_type": "execute_result"
    }
   ],
   "source": [
    "h = np.load('models/final-model-history', allow_pickle=True)\n",
    "h"
   ]
  },
  {
   "cell_type": "code",
   "execution_count": 35,
   "id": "96517c3b",
   "metadata": {},
   "outputs": [],
   "source": [
    "best_model = keras.models.load_model('models/final-model') # Model with best set of parameters not necessarily the model at the last epoch of training"
   ]
  },
  {
   "cell_type": "code",
   "execution_count": 36,
   "id": "94301555",
   "metadata": {},
   "outputs": [
    {
     "data": {
      "text/plain": [
       "<matplotlib.legend.Legend at 0x19282866550>"
      ]
     },
     "execution_count": 36,
     "metadata": {},
     "output_type": "execute_result"
    },
    {
     "data": {
      "image/png": "[encoded data removed]",
      "text/plain": [
       "<Figure size 720x360 with 1 Axes>"
      ]
     },
     "metadata": {
      "needs_background": "light"
     },
     "output_type": "display_data"
    }
   ],
   "source": [
    "fig, ax = plt.subplots(figsize=(10, 5))\n",
    "n_epochs = len(h['loss'])\n",
    "ax.plot(range(1, n_epochs+1), h['loss'], color='b', label='train_loss')\n",
    "ax.plot(range(1, n_epochs+1), h['val_loss'], color='c', label='val_loss')\n",
    "ax.plot(range(1, n_epochs+1), h['accuracy'], color='b', label='train_accuracy', linestyle='--')\n",
    "ax.plot(range(1, n_epochs+1), h['val_accuracy'], color='c', label='val_accuracy', linestyle='--')\n",
    "ax.set_xticks(range(1, n_epochs+1))\n",
    "ax.legend()"
   ]
  },
  {
   "cell_type": "code",
   "execution_count": 37,
   "id": "1cceeb24",
   "metadata": {},
   "outputs": [
    {
     "data": {
      "text/plain": [
       "<matplotlib.legend.Legend at 0x19282722d60>"
      ]
     },
     "execution_count": 37,
     "metadata": {},
     "output_type": "execute_result"
    },
    {
     "data": {
      "image/png": "[encoded data removed]",
      "text/plain": [
       "<Figure size 720x360 with 1 Axes>"
      ]
     },
     "metadata": {
      "needs_background": "light"
     },
     "output_type": "display_data"
    }
   ],
   "source": [
    "# Training Loss Correction\n",
    "\n",
    "fig, ax = plt.subplots(figsize=(10, 5))\n",
    "n_epochs = len(h['loss'])\n",
    "\n",
    "# Shift training loss by 0.5 as training loss is measured during the epoch and validation loss is measured after the epoch\n",
    "\n",
    "x_loss = np.arange(n_epochs+1)-0.5\n",
    "ax.plot(x_loss[x_loss >= 0], h['loss'], color='b', label='train_loss')\n",
    "ax.plot(range(1, n_epochs+1), h['val_loss'], color='r', label='val_loss')\n",
    "ax.plot(range(1, n_epochs+1), h['accuracy'], color='b', label='train_accuracy', linestyle='--')\n",
    "ax.plot(range(1, n_epochs+1), h['val_accuracy'], color='r', label='val_accuracy', linestyle='--')\n",
    "ax.set_xlim(0, n_epochs)\n",
    "ax.set_xticks(range(1, n_epochs+1))\n",
    "ax.legend()"
   ]
  },
  {
   "cell_type": "code",
   "execution_count": 38,
   "id": "b7e5d4b0",
   "metadata": {},
   "outputs": [],
   "source": [
    "# Defining a function the get the training and validation plots representing the accuracy and loss at each epoch\n",
    "\n",
    "def get_train_val_plots(h, yticks=None, figsize=(10, 5)):\n",
    "    # h: Any dictionary like the history.history\n",
    "    \n",
    "    fig, ax = plt.subplots(figsize=figsize)\n",
    "    n_epochs = len(h['loss'])\n",
    "    x_loss = np.arange(n_epochs+1)-0.5\n",
    "    \n",
    "    ax.plot(x_loss[x_loss >= 0], h['loss'], color='b', label='train_loss')\n",
    "    ax.plot(range(1, n_epochs+1), h['val_loss'], color='r', label='val_loss')\n",
    "    ax.plot(range(1, n_epochs+1), h['accuracy'], color='b', label='train_accuracy', linestyle='--')\n",
    "    ax.plot(range(1, n_epochs+1), h['val_accuracy'], color='r', label='val_accuracy', linestyle='--')\n",
    "    ax.set_xlim(0, n_epochs)\n",
    "    ax.set_xticks(range(1, n_epochs+1))\n",
    "    if yticks is not None:\n",
    "        ax.set_yticks(yticks)\n",
    "    ax.legend()"
   ]
  },
  {
   "cell_type": "code",
   "execution_count": 39,
   "id": "6f1885f7",
   "metadata": {},
   "outputs": [
    {
     "data": {
      "image/png": "[encoded data removed]",
      "text/plain": [
       "<Figure size 720x360 with 1 Axes>"
      ]
     },
     "metadata": {
      "needs_background": "light"
     },
     "output_type": "display_data"
    }
   ],
   "source": [
    "get_train_val_plots(h)"
   ]
  },
  {
   "cell_type": "code",
   "execution_count": 40,
   "id": "aadf9622",
   "metadata": {},
   "outputs": [],
   "source": [
    "# Test the model on test dataset\n",
    "# Load the test data\n",
    "test_df = pd.read_csv('data/alphabet/sign_mnist_test.csv') "
   ]
  },
  {
   "cell_type": "code",
   "execution_count": 41,
   "id": "c22ee404",
   "metadata": {},
   "outputs": [],
   "source": [
    "X_test, y_test = test_df.drop('label', axis=1), test_df['label']"
   ]
  },
  {
   "cell_type": "code",
   "execution_count": 42,
   "id": "50fcf741",
   "metadata": {},
   "outputs": [],
   "source": [
    "X_test = tf.reshape(X_test, [-1, 28, 28, 1])"
   ]
  },
  {
   "cell_type": "code",
   "execution_count": 43,
   "id": "04d31bf4",
   "metadata": {},
   "outputs": [],
   "source": [
    "y_test = label_binarizer.transform(y_test)"
   ]
  },
  {
   "cell_type": "code",
   "execution_count": 44,
   "id": "4c761190",
   "metadata": {
    "scrolled": true
   },
   "outputs": [
    {
     "name": "stdout",
     "output_type": "stream",
     "text": [
      "225/225 [==============================] - 4s 17ms/step - loss: 86.2299 - accuracy: 0.9416\n"
     ]
    },
    {
     "data": {
      "text/plain": [
       "[86.22994232177734, 0.9415783882141113]"
      ]
     },
     "execution_count": 44,
     "metadata": {},
     "output_type": "execute_result"
    }
   ],
   "source": [
    "best_model.evaluate(X_test, y_test)"
   ]
  },
  {
   "cell_type": "markdown",
   "id": "9085b7ff",
   "metadata": {},
   "source": [
    "Accuracy: 94.15%"
   ]
  },
  {
   "cell_type": "code",
   "execution_count": 45,
   "id": "685402ff",
   "metadata": {},
   "outputs": [],
   "source": [
    "# Preprocesses the input and evaluates the model\n",
    "\n",
    "def evaluate_model(model, X_test, y_test, label_binarizer):\n",
    "    X_test_reshape = tf.reshape(X_test, [-1, 28, 28, 1])\n",
    "    y_test_labels = label_binarizer.transform(y_test)\n",
    "    results = model.evaluate(X_test_reshape, y_test_labels)\n",
    "    print(f'Loss: {results[0]:.3f} Accuracy: {results[1]:.3f}')"
   ]
  },
  {
   "cell_type": "code",
   "execution_count": 46,
   "id": "af272eed",
   "metadata": {},
   "outputs": [
    {
     "name": "stdout",
     "output_type": "stream",
     "text": [
      "225/225 [==============================] - 4s 18ms/step - loss: 86.2299 - accuracy: 0.9416\n",
      "Loss: 86.230 Accuracy: 0.942\n"
     ]
    }
   ],
   "source": [
    "results = evaluate_model(best_model, test_df.drop('label', axis=1), test_df['label'], label_binarizer)"
   ]
  },
  {
   "cell_type": "markdown",
   "id": "b127a589",
   "metadata": {},
   "source": [
    "# Hyperparameter Tuning"
   ]
  },
  {
   "cell_type": "markdown",
   "id": "2d26fb0e",
   "metadata": {},
   "source": [
    "1. Convolution and Max Pooling Pairs\n",
    "2. Filters in the convolution layers\n",
    "3. Filter Shape\n",
    "4. Dropout"
   ]
  },
  {
   "cell_type": "markdown",
   "id": "393e2a7f",
   "metadata": {},
   "source": [
    "## Convolution and Max Pooling Pairs"
   ]
  },
  {
   "cell_type": "markdown",
   "id": "640290aa",
   "metadata": {},
   "source": [
    "Before flattening\n",
    "\n",
    "\n",
    "1. For pair = 1 -> Output to the dense layer will be of the shape `(None, 14, 14, 32)`\n",
    "2. For pair = 2 -> Output to the dense layer will be of the shape `(None, 7, 7, 64)`\n",
    "3. For pair = 3 -> Output to the dense layer will be of the shape `(None, 3, 3, 96)`\n",
    "4. For pair = 4 -> Output to the dense layer will be of the shape `(None, 1, 1, 128)`\n",
    "\n",
    "As the output shape rapidly decreases for the pair = 4 it is better to choose among the pair = 1, 2 or 3"
   ]
  },
  {
   "cell_type": "code",
   "execution_count": 74,
   "id": "1f392588",
   "metadata": {},
   "outputs": [],
   "source": [
    "# 20% Validation Split\n",
    "\n",
    "X_train, X_valid = X[:19500], X[19500:]\n",
    "y_train, y_valid = y[:19500], y[19500:]"
   ]
  },
  {
   "cell_type": "code",
   "execution_count": 63,
   "id": "e5583291",
   "metadata": {
    "scrolled": true
   },
   "outputs": [
    {
     "name": "stdout",
     "output_type": "stream",
     "text": [
      "Epoch 1/15\n",
      "781/782 [============================>.] - ETA: 0s - loss: 0.9687 - accuracy: 0.7337INFO:tensorflow:Assets written to: models\\parameter-tuning-1-1\\assets\n",
      "782/782 [==============================] - 25s 32ms/step - loss: 0.9684 - accuracy: 0.7338 - val_loss: 0.1850 - val_accuracy: 0.9666\n",
      "Epoch 2/15\n",
      "781/782 [============================>.] - ETA: 0s - loss: 0.0750 - accuracy: 0.9897INFO:tensorflow:Assets written to: models\\parameter-tuning-1-1\\assets\n",
      "782/782 [==============================] - 19s 24ms/step - loss: 0.0750 - accuracy: 0.9897 - val_loss: 0.0271 - val_accuracy: 0.9992\n",
      "Epoch 3/15\n",
      "781/782 [============================>.] - ETA: 0s - loss: 0.0131 - accuracy: 1.0000INFO:tensorflow:Assets written to: models\\parameter-tuning-1-1\\assets\n",
      "782/782 [==============================] - 21s 26ms/step - loss: 0.0131 - accuracy: 1.0000 - val_loss: 0.0077 - val_accuracy: 1.0000\n",
      "Epoch 4/15\n",
      "781/782 [============================>.] - ETA: 0s - loss: 0.0045 - accuracy: 1.0000INFO:tensorflow:Assets written to: models\\parameter-tuning-1-1\\assets\n",
      "782/782 [==============================] - 22s 28ms/step - loss: 0.0045 - accuracy: 1.0000 - val_loss: 0.0036 - val_accuracy: 1.0000\n",
      "Epoch 5/15\n",
      "780/782 [============================>.] - ETA: 0s - loss: 0.0022 - accuracy: 1.0000INFO:tensorflow:Assets written to: models\\parameter-tuning-1-1\\assets\n",
      "782/782 [==============================] - 23s 29ms/step - loss: 0.0022 - accuracy: 1.0000 - val_loss: 0.0017 - val_accuracy: 1.0000\n",
      "Epoch 6/15\n",
      "781/782 [============================>.] - ETA: 0s - loss: 0.0011 - accuracy: 1.0000INFO:tensorflow:Assets written to: models\\parameter-tuning-1-1\\assets\n",
      "782/782 [==============================] - 20s 26ms/step - loss: 0.0011 - accuracy: 1.0000 - val_loss: 0.0010 - val_accuracy: 1.0000\n",
      "Epoch 7/15\n",
      "782/782 [==============================] - 18s 24ms/step - loss: 0.0223 - accuracy: 0.9928 - val_loss: 0.0183 - val_accuracy: 0.9963\n",
      "Epoch 8/15\n",
      "782/782 [==============================] - ETA: 0s - loss: 0.0024 - accuracy: 0.9996INFO:tensorflow:Assets written to: models\\parameter-tuning-1-1\\assets\n",
      "782/782 [==============================] - 22s 28ms/step - loss: 0.0024 - accuracy: 0.9996 - val_loss: 6.4284e-04 - val_accuracy: 1.0000\n",
      "Epoch 9/15\n",
      "780/782 [============================>.] - ETA: 0s - loss: 3.8557e-04 - accuracy: 1.0000INFO:tensorflow:Assets written to: models\\parameter-tuning-1-1\\assets\n",
      "782/782 [==============================] - 18s 23ms/step - loss: 3.8527e-04 - accuracy: 1.0000 - val_loss: 4.0460e-04 - val_accuracy: 1.0000\n",
      "Epoch 10/15\n",
      "782/782 [==============================] - ETA: 0s - loss: 2.4832e-04 - accuracy: 1.0000 ETA: 1s -INFO:tensorflow:Assets written to: models\\parameter-tuning-1-1\\assets\n",
      "782/782 [==============================] - 19s 24ms/step - loss: 2.4832e-04 - accuracy: 1.0000 - val_loss: 3.0767e-04 - val_accuracy: 1.0000\n",
      "Epoch 11/15\n",
      "782/782 [==============================] - ETA: 0s - loss: 1.6323e-04 - accuracy: 1.0000INFO:tensorflow:Assets written to: models\\parameter-tuning-1-1\\assets\n",
      "782/782 [==============================] - 19s 24ms/step - loss: 1.6323e-04 - accuracy: 1.0000 - val_loss: 1.9158e-04 - val_accuracy: 1.0000\n",
      "Epoch 12/15\n",
      "781/782 [============================>.] - ETA: 0s - loss: 1.2220e-04 - accuracy: 1.0000INFO:tensorflow:Assets written to: models\\parameter-tuning-1-1\\assets\n",
      "782/782 [==============================] - 23s 29ms/step - loss: 1.2221e-04 - accuracy: 1.0000 - val_loss: 1.4418e-04 - val_accuracy: 1.0000\n",
      "Epoch 13/15\n",
      "780/782 [============================>.] - ETA: 0s - loss: 8.8331e-05 - accuracy: 1.0000INFO:tensorflow:Assets written to: models\\parameter-tuning-1-1\\assets\n",
      "782/782 [==============================] - 18s 23ms/step - loss: 8.8357e-05 - accuracy: 1.0000 - val_loss: 1.0544e-04 - val_accuracy: 1.0000\n",
      "Epoch 14/15\n",
      "782/782 [==============================] - ETA: 0s - loss: 6.3042e-05 - accuracy: 1.0000INFO:tensorflow:Assets written to: models\\parameter-tuning-1-1\\assets\n",
      "782/782 [==============================] - 20s 25ms/step - loss: 6.3042e-05 - accuracy: 1.0000 - val_loss: 8.6127e-05 - val_accuracy: 1.0000\n",
      "Epoch 15/15\n",
      "780/782 [============================>.] - ETA: 0s - loss: 4.6627e-05 - accuracy: 1.0000 ETA: 0s - loss: 4.6726eINFO:tensorflow:Assets written to: models\\parameter-tuning-1-1\\assets\n",
      "782/782 [==============================] - 22s 28ms/step - loss: 4.6595e-05 - accuracy: 1.0000 - val_loss: 5.7663e-05 - val_accuracy: 1.0000\n",
      "Epoch 1/15\n",
      "781/782 [============================>.] - ETA: 0s - loss: 0.7792 - accuracy: 0.7684INFO:tensorflow:Assets written to: models\\parameter-tuning-1-2\\assets\n",
      "782/782 [==============================] - 55s 71ms/step - loss: 0.7789 - accuracy: 0.7685 - val_loss: 0.0422 - val_accuracy: 0.9927\n",
      "Epoch 2/15\n",
      "781/782 [============================>.] - ETA: 0s - loss: 0.0229 - accuracy: 0.9960 ETA: 0s - losINFO:tensorflow:Assets written to: models\\parameter-tuning-1-2\\assets\n",
      "782/782 [==============================] - 53s 67ms/step - loss: 0.0229 - accuracy: 0.9960 - val_loss: 0.0026 - val_accuracy: 1.0000\n",
      "Epoch 3/15\n",
      "781/782 [============================>.] - ETA: 0s - loss: 0.0015 - accuracy: 1.0000INFO:tensorflow:Assets written to: models\\parameter-tuning-1-2\\assets\n",
      "782/782 [==============================] - 54s 69ms/step - loss: 0.0015 - accuracy: 1.0000 - val_loss: 0.0011 - val_accuracy: 1.0000\n",
      "Epoch 4/15\n",
      "781/782 [============================>.] - ETA: 0s - loss: 5.7632e-04 - accuracy: 1.0000INFO:tensorflow:Assets written to: models\\parameter-tuning-1-2\\assets\n",
      "782/782 [==============================] - 54s 68ms/step - loss: 5.7666e-04 - accuracy: 1.0000 - val_loss: 4.6288e-04 - val_accuracy: 1.0000\n",
      "Epoch 5/15\n",
      "781/782 [============================>.] - ETA: 0s - loss: 3.0232e-04 - accuracy: 1.0000INFO:tensorflow:Assets written to: models\\parameter-tuning-1-2\\assets\n",
      "782/782 [==============================] - 56s 72ms/step - loss: 3.0227e-04 - accuracy: 1.0000 - val_loss: 2.6454e-04 - val_accuracy: 1.0000\n",
      "Epoch 6/15\n",
      "782/782 [==============================] - 57s 73ms/step - loss: 0.0304 - accuracy: 0.9914 - val_loss: 0.0108 - val_accuracy: 0.9984\n",
      "Epoch 7/15\n",
      "781/782 [============================>.] - ETA: 0s - loss: 9.7827e-04 - accuracy: 1.0000INFO:tensorflow:Assets written to: models\\parameter-tuning-1-2\\assets\n",
      "782/782 [==============================] - 57s 72ms/step - loss: 9.7796e-04 - accuracy: 1.0000 - val_loss: 2.5854e-04 - val_accuracy: 1.0000\n",
      "Epoch 8/15\n",
      "781/782 [============================>.] - ETA: 0s - loss: 1.5859e-04 - accuracy: 1.0000INFO:tensorflow:Assets written to: models\\parameter-tuning-1-2\\assets\n",
      "782/782 [==============================] - 57s 73ms/step - loss: 1.5863e-04 - accuracy: 1.0000 - val_loss: 1.3383e-04 - val_accuracy: 1.0000\n",
      "Epoch 9/15\n",
      "781/782 [============================>.] - ETA: 0s - loss: 8.9785e-05 - accuracy: 1.0000INFO:tensorflow:Assets written to: models\\parameter-tuning-1-2\\assets\n",
      "782/782 [==============================] - 59s 75ms/step - loss: 8.9770e-05 - accuracy: 1.0000 - val_loss: 7.6116e-05 - val_accuracy: 1.0000\n",
      "Epoch 10/15\n",
      "781/782 [============================>.] - ETA: 0s - loss: 5.6078e-05 - accuracy: 1.0000INFO:tensorflow:Assets written to: models\\parameter-tuning-1-2\\assets\n",
      "782/782 [==============================] - 57s 73ms/step - loss: 5.6072e-05 - accuracy: 1.0000 - val_loss: 4.9185e-05 - val_accuracy: 1.0000\n",
      "Epoch 11/15\n",
      "781/782 [============================>.] - ETA: 0s - loss: 3.5468e-05 - accuracy: 1.0000INFO:tensorflow:Assets written to: models\\parameter-tuning-1-2\\assets\n",
      "782/782 [==============================] - 55s 71ms/step - loss: 3.5470e-05 - accuracy: 1.0000 - val_loss: 3.2217e-05 - val_accuracy: 1.0000\n",
      "Epoch 12/15\n",
      "781/782 [============================>.] - ETA: 0s - loss: 2.3688e-05 - accuracy: 1.0000INFO:tensorflow:Assets written to: models\\parameter-tuning-1-2\\assets\n",
      "782/782 [==============================] - 59s 75ms/step - loss: 2.3698e-05 - accuracy: 1.0000 - val_loss: 2.2113e-05 - val_accuracy: 1.0000\n",
      "Epoch 13/15\n",
      "781/782 [============================>.] - ETA: 0s - loss: 1.5528e-05 - accuracy: 1.0000INFO:tensorflow:Assets written to: models\\parameter-tuning-1-2\\assets\n",
      "782/782 [==============================] - 61s 78ms/step - loss: 1.5523e-05 - accuracy: 1.0000 - val_loss: 1.4782e-05 - val_accuracy: 1.0000\n"
     ]
    },
    {
     "name": "stdout",
     "output_type": "stream",
     "text": [
      "Epoch 14/15\n",
      "781/782 [============================>.] - ETA: 0s - loss: 1.0169e-05 - accuracy: 1.0000INFO:tensorflow:Assets written to: models\\parameter-tuning-1-2\\assets\n",
      "782/782 [==============================] - 49s 63ms/step - loss: 1.0205e-05 - accuracy: 1.0000 - val_loss: 1.1268e-05 - val_accuracy: 1.0000\n",
      "Epoch 15/15\n",
      "782/782 [==============================] - 46s 58ms/step - loss: 0.0219 - accuracy: 0.9933 - val_loss: 0.0383 - val_accuracy: 0.9906\n"
     ]
    }
   ],
   "source": [
    "# Models\n",
    "# 'models/parameter-tuning-1-1'\n",
    "# 'models/parameter-tuning-1-2'\n",
    "\n",
    "# History objects\n",
    "# 'models/parameter-tuning-1-1-history'\n",
    "# 'models/parameter-tuning-1-2-history'\n",
    "\n",
    "n_pairs = 2\n",
    "models_pairs = [keras.models.Sequential() for i in range(n_pairs)]\n",
    "early_stopping_cb = keras.callbacks.EarlyStopping(patience=5)\n",
    "\n",
    "for n in range(1, n_pairs+1):\n",
    "    models_pairs[n-1].add(keras.layers.Conv2D(32, (5, 5), padding='same', activation='relu', input_shape=(28, 28, 1)))\n",
    "    models_pairs[n-1].add(keras.layers.MaxPooling2D(pool_size=(2, 2)))\n",
    "    for i in range(1, n):\n",
    "        models_pairs[n-1].add(keras.layers.Conv2D(32*(i+1), (5, 5), padding='same', activation='relu'))\n",
    "        models_pairs[n-1].add(keras.layers.MaxPooling2D(pool_size=(2, 2)))\n",
    "    models_pairs[n-1].add(keras.layers.Flatten())\n",
    "    models_pairs[n-1].add(keras.layers.Dense(128, activation='relu'))\n",
    "    models_pairs[n-1].add(keras.layers.Dense(24, activation='softmax'))\n",
    "    models_pairs[n-1].compile(loss='categorical_crossentropy', optimizer='adam', metrics=['accuracy'])\n",
    "    save_best_cb = keras.callbacks.ModelCheckpoint(f'models/parameter-tuning-1-{n}', save_best_only=True)\n",
    "    history = models_pairs[n-1].fit(X_train, y_train, epochs=15, validation_data=(X_valid, y_valid), callbacks=[save_best_cb, early_stopping_cb])\n",
    "    with open(f'models/parameter-tuning-1-{n}-history', 'wb') as history_file:\n",
    "        pickle.dump(history.history, history_file)"
   ]
  },
  {
   "cell_type": "code",
   "execution_count": 64,
   "id": "fe1939d8",
   "metadata": {
    "scrolled": false
   },
   "outputs": [
    {
     "name": "stdout",
     "output_type": "stream",
     "text": [
      "Model: \"sequential_6\"\n",
      "_________________________________________________________________\n",
      "Layer (type)                 Output Shape              Param #   \n",
      "=================================================================\n",
      "conv2d_10 (Conv2D)           (None, 28, 28, 32)        832       \n",
      "_________________________________________________________________\n",
      "max_pooling2d_10 (MaxPooling (None, 14, 14, 32)        0         \n",
      "_________________________________________________________________\n",
      "flatten_5 (Flatten)          (None, 6272)              0         \n",
      "_________________________________________________________________\n",
      "dense_10 (Dense)             (None, 128)               802944    \n",
      "_________________________________________________________________\n",
      "dense_11 (Dense)             (None, 24)                3096      \n",
      "=================================================================\n",
      "Total params: 806,872\n",
      "Trainable params: 806,872\n",
      "Non-trainable params: 0\n",
      "_________________________________________________________________\n"
     ]
    }
   ],
   "source": [
    "# Conventional and Max Pooling Pair-1 Layers Summary\n",
    "models_pairs[0].summary()"
   ]
  },
  {
   "cell_type": "code",
   "execution_count": 65,
   "id": "8945d1b6",
   "metadata": {
    "scrolled": true
   },
   "outputs": [
    {
     "name": "stdout",
     "output_type": "stream",
     "text": [
      "Model: \"sequential_7\"\n",
      "_________________________________________________________________\n",
      "Layer (type)                 Output Shape              Param #   \n",
      "=================================================================\n",
      "conv2d_11 (Conv2D)           (None, 28, 28, 32)        832       \n",
      "_________________________________________________________________\n",
      "max_pooling2d_11 (MaxPooling (None, 14, 14, 32)        0         \n",
      "_________________________________________________________________\n",
      "conv2d_12 (Conv2D)           (None, 14, 14, 64)        51264     \n",
      "_________________________________________________________________\n",
      "max_pooling2d_12 (MaxPooling (None, 7, 7, 64)          0         \n",
      "_________________________________________________________________\n",
      "flatten_6 (Flatten)          (None, 3136)              0         \n",
      "_________________________________________________________________\n",
      "dense_12 (Dense)             (None, 128)               401536    \n",
      "_________________________________________________________________\n",
      "dense_13 (Dense)             (None, 24)                3096      \n",
      "=================================================================\n",
      "Total params: 456,728\n",
      "Trainable params: 456,728\n",
      "Non-trainable params: 0\n",
      "_________________________________________________________________\n"
     ]
    }
   ],
   "source": [
    "# Conventional and Max Pooling Pair-2 Layers Summary\n",
    "models_pairs[1].summary()"
   ]
  },
  {
   "cell_type": "code",
   "execution_count": 66,
   "id": "f5e21d6c",
   "metadata": {},
   "outputs": [
    {
     "name": "stdout",
     "output_type": "stream",
     "text": [
      "77/77 [==============================] - 1s 7ms/step - loss: 5.7663e-05 - accuracy: 1.0000\n",
      "77/77 [==============================] - 1s 13ms/step - loss: 1.1268e-05 - accuracy: 1.0000\n"
     ]
    }
   ],
   "source": [
    "for index in range(n_pairs):\n",
    "    model = keras.models.load_model(f'models/parameter-tuning-1-{index+1}')\n",
    "    model.evaluate(X_valid, y_valid)"
   ]
  },
  {
   "cell_type": "code",
   "execution_count": 67,
   "id": "83c8007b",
   "metadata": {},
   "outputs": [],
   "source": [
    "h_1_1 = np.load('models/parameter-tuning-1-1-history', allow_pickle=True)\n",
    "h_1_2 = np.load('models/parameter-tuning-1-2-history', allow_pickle=True)"
   ]
  },
  {
   "cell_type": "code",
   "execution_count": 68,
   "id": "b62ddb38",
   "metadata": {},
   "outputs": [
    {
     "data": {
      "image/png": "[encoded data removed]",
      "text/plain": [
       "<Figure size 720x360 with 1 Axes>"
      ]
     },
     "metadata": {
      "needs_background": "light"
     },
     "output_type": "display_data"
    },
    {
     "data": {
      "image/png": "[encoded data removed]",
      "text/plain": [
       "<Figure size 720x360 with 1 Axes>"
      ]
     },
     "metadata": {
      "needs_background": "light"
     },
     "output_type": "display_data"
    }
   ],
   "source": [
    "# Plotting the training value for Layer-1\n",
    "get_train_val_plots(h_1_1, yticks=np.arange(0, 1.2, 0.1))\n",
    "# Plotting the training value for Layer-2\n",
    "get_train_val_plots(h_1_2, yticks=np.arange(0, 1.2, 0.1))"
   ]
  },
  {
   "cell_type": "markdown",
   "id": "1ebbbd65",
   "metadata": {},
   "source": [
    "## Filters\n",
    "\n",
    "3 pairs of Convolution and Pooling layers \\\n",
    "Number of filters maps possible:\n",
    "1. 8 - 16 - 32\n",
    "2. 16 - 32 - 64\n",
    "3. 24 - 48 - 96"
   ]
  },
  {
   "cell_type": "code",
   "execution_count": 69,
   "id": "51ff2cb0",
   "metadata": {
    "scrolled": true
   },
   "outputs": [
    {
     "name": "stdout",
     "output_type": "stream",
     "text": [
      "Epoch 1/10\n",
      "782/782 [==============================] - ETA: 0s - loss: 1.1372 - accuracy: 0.6405INFO:tensorflow:Assets written to: models\\parameter-tuning-filter-maps-1\\assets\n",
      "782/782 [==============================] - 20s 25ms/step - loss: 1.1372 - accuracy: 0.6405 - val_loss: 0.2396 - val_accuracy: 0.9193\n",
      "Epoch 2/10\n",
      "782/782 [==============================] - ETA: 0s - loss: 0.1019 - accuracy: 0.9701INFO:tensorflow:Assets written to: models\\parameter-tuning-filter-maps-1\\assets\n",
      "782/782 [==============================] - 20s 26ms/step - loss: 0.1019 - accuracy: 0.9701 - val_loss: 0.0789 - val_accuracy: 0.9752\n",
      "Epoch 3/10\n",
      "781/782 [============================>.] - ETA: 0s - loss: 0.0392 - accuracy: 0.9895INFO:tensorflow:Assets written to: models\\parameter-tuning-filter-maps-1\\assets\n",
      "782/782 [==============================] - 19s 25ms/step - loss: 0.0392 - accuracy: 0.9895 - val_loss: 0.0062 - val_accuracy: 0.9996\n",
      "Epoch 4/10\n",
      "782/782 [==============================] - 18s 24ms/step - loss: 0.0047 - accuracy: 0.9990 - val_loss: 0.4110 - val_accuracy: 0.8794\n",
      "Epoch 5/10\n",
      "780/782 [============================>.] - ETA: 0s - loss: 0.0312 - accuracy: 0.9904 ETA: 0s - loss: 0.0INFO:tensorflow:Assets written to: models\\parameter-tuning-filter-maps-1\\assets\n",
      "782/782 [==============================] - 20s 26ms/step - loss: 0.0312 - accuracy: 0.9904 - val_loss: 5.6280e-04 - val_accuracy: 1.0000\n",
      "Epoch 6/10\n",
      "780/782 [============================>.] - ETA: 0s - loss: 3.3398e-04 - accuracy: 1.0000INFO:tensorflow:Assets written to: models\\parameter-tuning-filter-maps-1\\assets\n",
      "782/782 [==============================] - 20s 26ms/step - loss: 3.3367e-04 - accuracy: 1.0000 - val_loss: 2.2655e-04 - val_accuracy: 1.0000\n",
      "Epoch 7/10\n",
      "780/782 [============================>.] - ETA: 0s - loss: 1.5043e-04 - accuracy: 1.0000INFO:tensorflow:Assets written to: models\\parameter-tuning-filter-maps-1\\assets\n",
      "782/782 [==============================] - 20s 26ms/step - loss: 1.5029e-04 - accuracy: 1.0000 - val_loss: 1.3595e-04 - val_accuracy: 1.0000\n",
      "Epoch 8/10\n",
      "781/782 [============================>.] - ETA: 0s - loss: 9.3538e-05 - accuracy: 1.0000 ETA: 0s - loss: 9.4077e-05 - INFO:tensorflow:Assets written to: models\\parameter-tuning-filter-maps-1\\assets\n",
      "782/782 [==============================] - 23s 29ms/step - loss: 9.3524e-05 - accuracy: 1.0000 - val_loss: 8.4722e-05 - val_accuracy: 1.0000\n",
      "Epoch 9/10\n",
      "782/782 [==============================] - ETA: 0s - loss: 5.9099e-05 - accuracy: 1.0000INFO:tensorflow:Assets written to: models\\parameter-tuning-filter-maps-1\\assets\n",
      "782/782 [==============================] - 21s 26ms/step - loss: 5.9099e-05 - accuracy: 1.0000 - val_loss: 5.4417e-05 - val_accuracy: 1.0000\n",
      "Epoch 10/10\n",
      "782/782 [==============================] - 18s 24ms/step - loss: 4.1778e-05 - accuracy: 1.0000 - val_loss: 5.4423e-05 - val_accuracy: 1.0000\n",
      "Epoch 1/10\n",
      "781/782 [============================>.] - ETA: 0s - loss: 0.9742 - accuracy: 0.6971INFO:tensorflow:Assets written to: models\\parameter-tuning-filter-maps-2\\assets\n",
      "782/782 [==============================] - 32s 41ms/step - loss: 0.9739 - accuracy: 0.6972 - val_loss: 0.1808 - val_accuracy: 0.9320\n",
      "Epoch 2/10\n",
      "782/782 [==============================] - ETA: 0s - loss: 0.0452 - accuracy: 0.9883INFO:tensorflow:Assets written to: models\\parameter-tuning-filter-maps-2\\assets\n",
      "782/782 [==============================] - 34s 44ms/step - loss: 0.0452 - accuracy: 0.9883 - val_loss: 0.0231 - val_accuracy: 0.9939\n",
      "Epoch 3/10\n",
      "782/782 [==============================] - 31s 39ms/step - loss: 0.0086 - accuracy: 0.9984 - val_loss: 0.0787 - val_accuracy: 0.9703\n",
      "Epoch 4/10\n",
      "781/782 [============================>.] - ETA: 0s - loss: 0.0232 - accuracy: 0.9928INFO:tensorflow:Assets written to: models\\parameter-tuning-filter-maps-2\\assets\n",
      "782/782 [==============================] - 33s 42ms/step - loss: 0.0232 - accuracy: 0.9928 - val_loss: 4.0440e-04 - val_accuracy: 1.0000\n",
      "Epoch 5/10\n",
      "781/782 [============================>.] - ETA: 0s - loss: 2.6006e-04 - accuracy: 1.0000INFO:tensorflow:Assets written to: models\\parameter-tuning-filter-maps-2\\assets\n",
      "782/782 [==============================] - 32s 41ms/step - loss: 2.6001e-04 - accuracy: 1.0000 - val_loss: 2.0217e-04 - val_accuracy: 1.0000\n",
      "Epoch 6/10\n",
      "781/782 [============================>.] - ETA: 0s - loss: 1.2785e-04 - accuracy: 1.0000 ETA: INFO:tensorflow:Assets written to: models\\parameter-tuning-filter-maps-2\\assets\n",
      "782/782 [==============================] - 35s 45ms/step - loss: 1.2783e-04 - accuracy: 1.0000 - val_loss: 1.0880e-04 - val_accuracy: 1.0000\n",
      "Epoch 7/10\n",
      "781/782 [============================>.] - ETA: 0s - loss: 7.2071e-05 - accuracy: 1.0000INFO:tensorflow:Assets written to: models\\parameter-tuning-filter-maps-2\\assets\n",
      "782/782 [==============================] - 28s 36ms/step - loss: 7.2049e-05 - accuracy: 1.0000 - val_loss: 6.6700e-05 - val_accuracy: 1.0000\n",
      "Epoch 8/10\n",
      "781/782 [============================>.] - ETA: 0s - loss: 4.4819e-05 - accuracy: 1.0000INFO:tensorflow:Assets written to: models\\parameter-tuning-filter-maps-2\\assets\n",
      "782/782 [==============================] - 28s 36ms/step - loss: 4.4805e-05 - accuracy: 1.0000 - val_loss: 4.1622e-05 - val_accuracy: 1.0000\n",
      "Epoch 9/10\n",
      "781/782 [============================>.] - ETA: 0s - loss: 2.8416e-05 - accuracy: 1.0000INFO:tensorflow:Assets written to: models\\parameter-tuning-filter-maps-2\\assets\n",
      "782/782 [==============================] - 28s 36ms/step - loss: 2.8413e-05 - accuracy: 1.0000 - val_loss: 2.7118e-05 - val_accuracy: 1.0000\n",
      "Epoch 10/10\n",
      "780/782 [============================>.] - ETA: 0s - loss: 1.8328e-05 - accuracy: 1.0000INFO:tensorflow:Assets written to: models\\parameter-tuning-filter-maps-2\\assets\n",
      "782/782 [==============================] - 28s 35ms/step - loss: 1.8378e-05 - accuracy: 1.0000 - val_loss: 1.8575e-05 - val_accuracy: 1.0000\n"
     ]
    }
   ],
   "source": [
    "# Models\n",
    "# 'models/parameter-tuning-filter-maps-1'\n",
    "# 'models/parameter-tuning-filter-maps-2'\n",
    "\n",
    "# History objects\n",
    "# 'models/parameter-tuning-filter-maps-1-history'\n",
    "# 'models/parameter-tuning-filter-maps-2-history'\n",
    "\n",
    "n_tests = 2\n",
    "\n",
    "models = []\n",
    "early_stopping_cb = keras.callbacks.EarlyStopping(patience=5)\n",
    "\n",
    "\n",
    "for i in range(n_tests):\n",
    "    model = keras.models.Sequential()\n",
    "    models.append(model)\n",
    "    model.add(keras.layers.Input(shape=(28, 28, 1)))\n",
    "    for pairs in range(3):\n",
    "        model.add(keras.layers.Conv2D((8*(i+1))*(2**pairs), (5, 5), padding='same', activation='relu'))\n",
    "        model.add(keras.layers.MaxPooling2D(pool_size=(2, 2)))\n",
    "    model.add(keras.layers.Flatten())\n",
    "    model.add(keras.layers.Dense(128, activation='relu'))\n",
    "    model.add(keras.layers.Dense(24, activation='softmax'))\n",
    "    model.compile(loss='categorical_crossentropy', optimizer='adam', metrics=['accuracy'])\n",
    "    save_best_cb = keras.callbacks.ModelCheckpoint(f'models/parameter-tuning-filter-maps-{i+1}', save_best_only=True)\n",
    "    history = model.fit(X_train, y_train, epochs=10, validation_data=(X_valid, y_valid), callbacks=[save_best_cb, early_stopping_cb])\n",
    "    with open(f'models/parameter-tuning-filter-maps-{i+1}-history', 'wb') as history_file:\n",
    "        pickle.dump(history.history, history_file)"
   ]
  },
  {
   "cell_type": "code",
   "execution_count": 70,
   "id": "4c22de89",
   "metadata": {
    "scrolled": true
   },
   "outputs": [
    {
     "name": "stdout",
     "output_type": "stream",
     "text": [
      "Model: \"sequential_8\"\n",
      "_________________________________________________________________\n",
      "Layer (type)                 Output Shape              Param #   \n",
      "=================================================================\n",
      "conv2d_13 (Conv2D)           (None, 28, 28, 8)         208       \n",
      "_________________________________________________________________\n",
      "max_pooling2d_13 (MaxPooling (None, 14, 14, 8)         0         \n",
      "_________________________________________________________________\n",
      "conv2d_14 (Conv2D)           (None, 14, 14, 16)        3216      \n",
      "_________________________________________________________________\n",
      "max_pooling2d_14 (MaxPooling (None, 7, 7, 16)          0         \n",
      "_________________________________________________________________\n",
      "conv2d_15 (Conv2D)           (None, 7, 7, 32)          12832     \n",
      "_________________________________________________________________\n",
      "max_pooling2d_15 (MaxPooling (None, 3, 3, 32)          0         \n",
      "_________________________________________________________________\n",
      "flatten_7 (Flatten)          (None, 288)               0         \n",
      "_________________________________________________________________\n",
      "dense_14 (Dense)             (None, 128)               36992     \n",
      "_________________________________________________________________\n",
      "dense_15 (Dense)             (None, 24)                3096      \n",
      "=================================================================\n",
      "Total params: 56,344\n",
      "Trainable params: 56,344\n",
      "Non-trainable params: 0\n",
      "_________________________________________________________________\n"
     ]
    }
   ],
   "source": [
    "models[0].summary()"
   ]
  },
  {
   "cell_type": "code",
   "execution_count": 71,
   "id": "27f5faf6",
   "metadata": {
    "scrolled": true
   },
   "outputs": [
    {
     "name": "stdout",
     "output_type": "stream",
     "text": [
      "Model: \"sequential_9\"\n",
      "_________________________________________________________________\n",
      "Layer (type)                 Output Shape              Param #   \n",
      "=================================================================\n",
      "conv2d_16 (Conv2D)           (None, 28, 28, 16)        416       \n",
      "_________________________________________________________________\n",
      "max_pooling2d_16 (MaxPooling (None, 14, 14, 16)        0         \n",
      "_________________________________________________________________\n",
      "conv2d_17 (Conv2D)           (None, 14, 14, 32)        12832     \n",
      "_________________________________________________________________\n",
      "max_pooling2d_17 (MaxPooling (None, 7, 7, 32)          0         \n",
      "_________________________________________________________________\n",
      "conv2d_18 (Conv2D)           (None, 7, 7, 64)          51264     \n",
      "_________________________________________________________________\n",
      "max_pooling2d_18 (MaxPooling (None, 3, 3, 64)          0         \n",
      "_________________________________________________________________\n",
      "flatten_8 (Flatten)          (None, 576)               0         \n",
      "_________________________________________________________________\n",
      "dense_16 (Dense)             (None, 128)               73856     \n",
      "_________________________________________________________________\n",
      "dense_17 (Dense)             (None, 24)                3096      \n",
      "=================================================================\n",
      "Total params: 141,464\n",
      "Trainable params: 141,464\n",
      "Non-trainable params: 0\n",
      "_________________________________________________________________\n"
     ]
    }
   ],
   "source": [
    "models[1].summary()"
   ]
  },
  {
   "cell_type": "code",
   "execution_count": 72,
   "id": "d7b2bf2d",
   "metadata": {},
   "outputs": [
    {
     "name": "stdout",
     "output_type": "stream",
     "text": [
      "77/77 [==============================] - 1s 7ms/step - loss: 5.4417e-05 - accuracy: 1.0000\n",
      "77/77 [==============================] - 1s 9ms/step - loss: 1.8575e-05 - accuracy: 1.0000\n"
     ]
    }
   ],
   "source": [
    "for index in range(n_tests):\n",
    "    model = keras.models.load_model(f'models/parameter-tuning-filter-maps-{index+1}')\n",
    "    model.evaluate(X_valid, y_valid)"
   ]
  },
  {
   "cell_type": "code",
   "execution_count": 73,
   "id": "c6af5d12",
   "metadata": {},
   "outputs": [],
   "source": [
    "h_2_1 = np.load('models/parameter-tuning-filter-maps-1-history', allow_pickle=True)\n",
    "h_2_2 = np.load('models/parameter-tuning-filter-maps-2-history', allow_pickle=True)"
   ]
  },
  {
   "cell_type": "code",
   "execution_count": 74,
   "id": "dac13522",
   "metadata": {
    "scrolled": true
   },
   "outputs": [
    {
     "data": {
      "image/png": "[encoded data removed]",
      "text/plain": [
       "<Figure size 720x360 with 1 Axes>"
      ]
     },
     "metadata": {
      "needs_background": "light"
     },
     "output_type": "display_data"
    },
    {
     "data": {
      "image/png": "[encoded data removed]",
      "text/plain": [
       "<Figure size 720x360 with 1 Axes>"
      ]
     },
     "metadata": {
      "needs_background": "light"
     },
     "output_type": "display_data"
    }
   ],
   "source": [
    "get_train_val_plots(h_2_1, yticks=np.arange(0, 1.2, 0.1))\n",
    "get_train_val_plots(h_2_2, yticks=np.arange(0, 1.2, 0.1))"
   ]
  },
  {
   "cell_type": "markdown",
   "id": "68a857fd",
   "metadata": {},
   "source": [
    "## Filter Size"
   ]
  },
  {
   "cell_type": "code",
   "execution_count": 75,
   "id": "4ca42854",
   "metadata": {
    "scrolled": true
   },
   "outputs": [
    {
     "name": "stdout",
     "output_type": "stream",
     "text": [
      "Epoch 1/10\n",
      "781/782 [============================>.] - ETA: 0s - loss: 0.8415 - accuracy: 0.7458INFO:tensorflow:Assets written to: models\\parameter-tuning-filters-1\\assets\n",
      "782/782 [==============================] - 26s 34ms/step - loss: 0.8412 - accuracy: 0.7458 - val_loss: 0.1228 - val_accuracy: 0.9564\n",
      "Epoch 2/10\n",
      "781/782 [============================>.] - ETA: 0s - loss: 0.0320 - accuracy: 0.9928INFO:tensorflow:Assets written to: models\\parameter-tuning-filters-1\\assets\n",
      "782/782 [==============================] - 24s 31ms/step - loss: 0.0320 - accuracy: 0.9928 - val_loss: 0.0039 - val_accuracy: 0.9996\n",
      "Epoch 3/10\n",
      "781/782 [============================>.] - ETA: 0s - loss: 0.0286 - accuracy: 0.9922INFO:tensorflow:Assets written to: models\\parameter-tuning-filters-1\\assets\n",
      "782/782 [==============================] - 25s 32ms/step - loss: 0.0286 - accuracy: 0.9922 - val_loss: 0.0023 - val_accuracy: 1.0000\n",
      "Epoch 4/10\n",
      "781/782 [============================>.] - ETA: 0s - loss: 0.0012 - accuracy: 1.0000INFO:tensorflow:Assets written to: models\\parameter-tuning-filters-1\\assets\n",
      "782/782 [==============================] - 32s 41ms/step - loss: 0.0012 - accuracy: 1.0000 - val_loss: 7.0278e-04 - val_accuracy: 1.0000\n",
      "Epoch 5/10\n",
      "780/782 [============================>.] - ETA: 0s - loss: 3.6290e-04 - accuracy: 1.0000INFO:tensorflow:Assets written to: models\\parameter-tuning-filters-1\\assets\n",
      "782/782 [==============================] - 26s 34ms/step - loss: 3.6246e-04 - accuracy: 1.0000 - val_loss: 3.2218e-04 - val_accuracy: 1.0000\n",
      "Epoch 6/10\n",
      "781/782 [============================>.] - ETA: 0s - loss: 1.8974e-04 - accuracy: 1.0000INFO:tensorflow:Assets written to: models\\parameter-tuning-filters-1\\assets\n",
      "782/782 [==============================] - 26s 33ms/step - loss: 1.8977e-04 - accuracy: 1.0000 - val_loss: 1.8542e-04 - val_accuracy: 1.0000\n",
      "Epoch 7/10\n",
      "780/782 [============================>.] - ETA: 0s - loss: 1.1077e-04 - accuracy: 1.0000INFO:tensorflow:Assets written to: models\\parameter-tuning-filters-1\\assets\n",
      "782/782 [==============================] - 24s 31ms/step - loss: 1.1070e-04 - accuracy: 1.0000 - val_loss: 1.5757e-04 - val_accuracy: 1.0000\n",
      "Epoch 8/10\n",
      "782/782 [==============================] - ETA: 0s - loss: 7.3394e-05 - accuracy: 1.0000 ETA: 0s - loss: 7.3790e-05 - INFO:tensorflow:Assets written to: models\\parameter-tuning-filters-1\\assets\n",
      "782/782 [==============================] - 25s 31ms/step - loss: 7.3394e-05 - accuracy: 1.0000 - val_loss: 8.6618e-05 - val_accuracy: 1.0000\n",
      "Epoch 9/10\n",
      "782/782 [==============================] - 23s 29ms/step - loss: 0.0042 - accuracy: 0.9991 - val_loss: 2.0171 - val_accuracy: 0.6574\n",
      "Epoch 10/10\n",
      "782/782 [==============================] - 24s 30ms/step - loss: 0.0449 - accuracy: 0.9866 - val_loss: 4.2000e-04 - val_accuracy: 1.0000\n"
     ]
    }
   ],
   "source": [
    "# Models\n",
    "# 'models/parameter-tuning-filters-1'\n",
    "\n",
    "# History objects\n",
    "# 'models/parameter-tuning-filters-1-history'\n",
    "\n",
    "save_best_cb = keras.callbacks.ModelCheckpoint(f'models/parameter-tuning-filters-1', save_best_only=True)\n",
    "early_stopping_cb = keras.callbacks.EarlyStopping(patience=5)\n",
    "\n",
    "model = keras.models.Sequential()\n",
    "model.add(keras.layers.Conv2D(24, (3, 3), padding='same', activation='relu'))\n",
    "model.add(keras.layers.MaxPooling2D(pool_size=(2, 2)))\n",
    "model.add(keras.layers.Conv2D(48, (3, 3), padding='same', activation='relu'))\n",
    "model.add(keras.layers.MaxPooling2D(pool_size=(2, 2)))\n",
    "model.add(keras.layers.Conv2D(96, (3, 3), padding='same', activation='relu'))\n",
    "model.add(keras.layers.MaxPooling2D(pool_size=(2, 2)))\n",
    "model.add(keras.layers.Flatten())\n",
    "model.add(keras.layers.Dense(128, activation='relu'))\n",
    "model.add(keras.layers.Dense(24, activation='softmax'))\n",
    "model.compile(loss='categorical_crossentropy', optimizer='adam', metrics=['accuracy'])\n",
    "history = model.fit(X_train, y_train, epochs=10, validation_data=(X_valid, y_valid), callbacks=[save_best_cb, early_stopping_cb])\n",
    "with open(f'models/parameter-tuning-filters-1-history', 'wb') as history_file:\n",
    "    pickle.dump(history.history, history_file)"
   ]
  },
  {
   "cell_type": "code",
   "execution_count": 76,
   "id": "816df03f",
   "metadata": {},
   "outputs": [
    {
     "name": "stdout",
     "output_type": "stream",
     "text": [
      "77/77 [==============================] - 1s 8ms/step - loss: 8.6618e-05 - accuracy: 1.0000\n"
     ]
    },
    {
     "data": {
      "text/plain": [
       "[8.66178233991377e-05, 1.0]"
      ]
     },
     "execution_count": 76,
     "metadata": {},
     "output_type": "execute_result"
    }
   ],
   "source": [
    "model = keras.models.load_model('models/parameter-tuning-filters-1')\n",
    "model.evaluate(X_valid, y_valid)"
   ]
  },
  {
   "cell_type": "code",
   "execution_count": 80,
   "id": "1163b70d",
   "metadata": {
    "scrolled": true
   },
   "outputs": [
    {
     "data": {
      "image/png": "[encoded data removed]",
      "text/plain": [
       "<Figure size 720x360 with 1 Axes>"
      ]
     },
     "metadata": {
      "needs_background": "light"
     },
     "output_type": "display_data"
    },
    {
     "data": {
      "image/png": "[encoded data removed]",
      "text/plain": [
       "<Figure size 720x360 with 1 Axes>"
      ]
     },
     "metadata": {
      "needs_background": "light"
     },
     "output_type": "display_data"
    }
   ],
   "source": [
    "# Increasing filter maps vs Increasing filter size\n",
    "h_2_3 = np.load('models/parameter-tuning-filter-maps-1-history', allow_pickle=True)\n",
    "h = np.load('models/parameter-tuning-filters-1-history', allow_pickle=True)\n",
    "get_train_val_plots(h, yticks=np.arange(0, 1.2, 0.1))\n",
    "get_train_val_plots(h_2_3, yticks=np.arange(0, 1.2, 0.1))"
   ]
  },
  {
   "cell_type": "markdown",
   "id": "41197ef4",
   "metadata": {},
   "source": [
    "Therefore, we choose to use filter sizes of (5x5)"
   ]
  },
  {
   "cell_type": "markdown",
   "id": "d6ab0734",
   "metadata": {},
   "source": [
    "## Dropout"
   ]
  },
  {
   "cell_type": "code",
   "execution_count": 81,
   "id": "39ea34d6",
   "metadata": {},
   "outputs": [
    {
     "name": "stdout",
     "output_type": "stream",
     "text": [
      "Epoch 1/10\n",
      "781/782 [============================>.] - ETA: 0s - loss: 1.8015 - accuracy: 0.4313INFO:tensorflow:Assets written to: models\\parameter-tuning-dropout-1\\assets\n",
      "782/782 [==============================] - 62s 79ms/step - loss: 1.8016 - accuracy: 0.4313 - val_loss: 0.3238 - val_accuracy: 0.9202\n",
      "Epoch 2/10\n",
      "781/782 [============================>.] - ETA: 0s - loss: 0.3787 - accuracy: 0.8691INFO:tensorflow:Assets written to: models\\parameter-tuning-dropout-1\\assets\n",
      "782/782 [==============================] - 61s 78ms/step - loss: 0.3785 - accuracy: 0.8691 - val_loss: 0.0592 - val_accuracy: 0.9862\n",
      "Epoch 3/10\n",
      "781/782 [============================>.] - ETA: 0s - loss: 0.1678 - accuracy: 0.9429INFO:tensorflow:Assets written to: models\\parameter-tuning-dropout-1\\assets\n",
      "782/782 [==============================] - 60s 76ms/step - loss: 0.1678 - accuracy: 0.9430 - val_loss: 0.0140 - val_accuracy: 0.9980\n",
      "Epoch 4/10\n",
      "781/782 [============================>.] - ETA: 0s - loss: 0.1041 - accuracy: 0.9645INFO:tensorflow:Assets written to: models\\parameter-tuning-dropout-1\\assets\n",
      "782/782 [==============================] - 54s 70ms/step - loss: 0.1041 - accuracy: 0.9644 - val_loss: 0.0048 - val_accuracy: 1.0000\n",
      "Epoch 5/10\n",
      "781/782 [============================>.] - ETA: 0s - loss: 0.0797 - accuracy: 0.9722INFO:tensorflow:Assets written to: models\\parameter-tuning-dropout-1\\assets\n",
      "782/782 [==============================] - 57s 73ms/step - loss: 0.0797 - accuracy: 0.9722 - val_loss: 0.0013 - val_accuracy: 1.0000\n",
      "Epoch 6/10\n",
      "782/782 [==============================] - 59s 75ms/step - loss: 0.0652 - accuracy: 0.9793 - val_loss: 0.0018 - val_accuracy: 1.0000\n",
      "Epoch 7/10\n",
      "782/782 [==============================] - 58s 74ms/step - loss: 0.0584 - accuracy: 0.9808 - val_loss: 0.0016 - val_accuracy: 1.0000\n",
      "Epoch 8/10\n",
      "781/782 [============================>.] - ETA: 0s - loss: 0.0567 - accuracy: 0.9812INFO:tensorflow:Assets written to: models\\parameter-tuning-dropout-1\\assets\n",
      "782/782 [==============================] - 65s 84ms/step - loss: 0.0567 - accuracy: 0.9812 - val_loss: 3.8188e-04 - val_accuracy: 1.0000\n",
      "Epoch 9/10\n",
      "782/782 [==============================] - ETA: 0s - loss: 0.0452 - accuracy: 0.9855INFO:tensorflow:Assets written to: models\\parameter-tuning-dropout-1\\assets\n",
      "782/782 [==============================] - 60s 77ms/step - loss: 0.0452 - accuracy: 0.9855 - val_loss: 1.8442e-04 - val_accuracy: 1.0000\n",
      "Epoch 10/10\n",
      "782/782 [==============================] - 56s 72ms/step - loss: 0.0454 - accuracy: 0.9854 - val_loss: 1.8463e-04 - val_accuracy: 1.0000\n",
      "Epoch 1/10\n",
      "781/782 [============================>.] - ETA: 0s - loss: 1.9920 - accuracy: 0.3747INFO:tensorflow:Assets written to: models\\parameter-tuning-dropout-2\\assets\n",
      "782/782 [==============================] - 59s 76ms/step - loss: 1.9916 - accuracy: 0.3748 - val_loss: 0.3539 - val_accuracy: 0.9112\n",
      "Epoch 2/10\n",
      "781/782 [============================>.] - ETA: 0s - loss: 0.4855 - accuracy: 0.8325 ETA: 0s - loss: 0.4860 - accuracy: 0.83INFO:tensorflow:Assets written to: models\\parameter-tuning-dropout-2\\assets\n",
      "782/782 [==============================] - 52s 67ms/step - loss: 0.4857 - accuracy: 0.8324 - val_loss: 0.0772 - val_accuracy: 0.9927\n",
      "Epoch 3/10\n",
      "781/782 [============================>.] - ETA: 0s - loss: 0.2482 - accuracy: 0.9154INFO:tensorflow:Assets written to: models\\parameter-tuning-dropout-2\\assets\n",
      "782/782 [==============================] - 55s 70ms/step - loss: 0.2482 - accuracy: 0.9154 - val_loss: 0.0292 - val_accuracy: 0.9955\n",
      "Epoch 4/10\n",
      "781/782 [============================>.] - ETA: 0s - loss: 0.1618 - accuracy: 0.9457INFO:tensorflow:Assets written to: models\\parameter-tuning-dropout-2\\assets\n",
      "782/782 [==============================] - 57s 72ms/step - loss: 0.1618 - accuracy: 0.9457 - val_loss: 0.0143 - val_accuracy: 0.9971\n",
      "Epoch 5/10\n",
      "782/782 [==============================] - ETA: 0s - loss: 0.1253 - accuracy: 0.9586INFO:tensorflow:Assets written to: models\\parameter-tuning-dropout-2\\assets\n",
      "782/782 [==============================] - 57s 73ms/step - loss: 0.1253 - accuracy: 0.9586 - val_loss: 0.0035 - val_accuracy: 1.0000\n",
      "Epoch 6/10\n",
      "781/782 [============================>.] - ETA: 0s - loss: 0.1087 - accuracy: 0.9643INFO:tensorflow:Assets written to: models\\parameter-tuning-dropout-2\\assets\n",
      "782/782 [==============================] - 59s 75ms/step - loss: 0.1086 - accuracy: 0.9644 - val_loss: 0.0034 - val_accuracy: 1.0000\n",
      "Epoch 7/10\n",
      "782/782 [==============================] - 51s 65ms/step - loss: 0.0937 - accuracy: 0.9692 - val_loss: 0.0038 - val_accuracy: 1.0000\n",
      "Epoch 8/10\n",
      "781/782 [============================>.] - ETA: 0s - loss: 0.0821 - accuracy: 0.9733INFO:tensorflow:Assets written to: models\\parameter-tuning-dropout-2\\assets\n",
      "782/782 [==============================] - 54s 70ms/step - loss: 0.0821 - accuracy: 0.9732 - val_loss: 0.0017 - val_accuracy: 0.9992\n",
      "Epoch 9/10\n",
      "781/782 [============================>.] - ETA: 0s - loss: 0.0822 - accuracy: 0.9751INFO:tensorflow:Assets written to: models\\parameter-tuning-dropout-2\\assets\n",
      "782/782 [==============================] - 56s 72ms/step - loss: 0.0824 - accuracy: 0.9751 - val_loss: 2.9853e-04 - val_accuracy: 1.0000\n",
      "Epoch 10/10\n",
      "782/782 [==============================] - 50s 64ms/step - loss: 0.0709 - accuracy: 0.9790 - val_loss: 3.5606e-04 - val_accuracy: 1.0000\n"
     ]
    }
   ],
   "source": [
    "# Models\n",
    "# 'models/parameter-tuning-dropout-1'\n",
    "# 'models/parameter-tuning-dropout-2'\n",
    "\n",
    "# History objects\n",
    "# 'models/parameter-tuning-dropout-1-history'\n",
    "# 'models/parameter-tuning-dropout-2-history'\n",
    "\n",
    "early_stopping_cb = keras.callbacks.EarlyStopping(patience=5)\n",
    "\n",
    "dropout_rates = [0.3, 0.4]\n",
    "\n",
    "for index, i in enumerate(dropout_rates):\n",
    "    model = keras.models.Sequential()\n",
    "    model.add(keras.layers.Conv2D(24, (5, 5), padding='same', activation='relu'))\n",
    "    model.add(keras.layers.MaxPooling2D(pool_size=(2, 2)))\n",
    "    model.add(keras.layers.Dropout(i))\n",
    "    model.add(keras.layers.Conv2D(48, (5, 5), padding='same', activation='relu'))\n",
    "    model.add(keras.layers.MaxPooling2D(pool_size=(2, 2)))\n",
    "    model.add(keras.layers.Dropout(i))\n",
    "    model.add(keras.layers.Conv2D(96, (5, 5), padding='same', activation='relu'))\n",
    "    model.add(keras.layers.MaxPooling2D(pool_size=(2, 2)))\n",
    "    model.add(keras.layers.Dropout(i))\n",
    "    model.add(keras.layers.Flatten())\n",
    "    model.add(keras.layers.Dense(128, activation='relu'))\n",
    "    model.add(keras.layers.Dropout(i))\n",
    "    model.add(keras.layers.Dense(24, activation='softmax'))\n",
    "    model.compile(loss='categorical_crossentropy', optimizer='adam', metrics=['accuracy'])\n",
    "    save_best_cb = keras.callbacks.ModelCheckpoint(f'models/parameter-tuning-dropout-{index+1}', save_best_only=True)\n",
    "    history = model.fit(X_train, y_train, epochs=10, validation_data=(X_valid, y_valid), callbacks=[save_best_cb, early_stopping_cb])\n",
    "    with open(f'models/parameter-tuning-dropout-{index+1}-history', 'wb') as history_file:\n",
    "        pickle.dump(history.history, history_file)"
   ]
  },
  {
   "cell_type": "code",
   "execution_count": 82,
   "id": "97243155",
   "metadata": {},
   "outputs": [
    {
     "name": "stdout",
     "output_type": "stream",
     "text": [
      "77/77 [==============================] - 1s 12ms/step - loss: 1.8442e-04 - accuracy: 1.0000\n",
      "77/77 [==============================] - 1s 13ms/step - loss: 2.9853e-04 - accuracy: 1.0000\n"
     ]
    }
   ],
   "source": [
    "n_drops = 2\n",
    "for index in range(n_drops):\n",
    "    model = keras.models.load_model(f'models/parameter-tuning-dropout-{index+1}')\n",
    "    model.evaluate(X_valid, y_valid)"
   ]
  },
  {
   "cell_type": "code",
   "execution_count": 83,
   "id": "e3b5e4d1",
   "metadata": {
    "scrolled": true
   },
   "outputs": [
    {
     "data": {
      "image/png": "[encoded data removed]",
      "text/plain": [
       "<Figure size 720x360 with 1 Axes>"
      ]
     },
     "metadata": {
      "needs_background": "light"
     },
     "output_type": "display_data"
    },
    {
     "data": {
      "image/png": "[encoded data removed]",
      "text/plain": [
       "<Figure size 720x360 with 1 Axes>"
      ]
     },
     "metadata": {
      "needs_background": "light"
     },
     "output_type": "display_data"
    }
   ],
   "source": [
    "h_1 = np.load('models/parameter-tuning-dropout-1-history', allow_pickle=True)\n",
    "h_2 = np.load('models/parameter-tuning-dropout-2-history', allow_pickle=True)\n",
    "\n",
    "get_train_val_plots(h_1)\n",
    "get_train_val_plots(h_2)"
   ]
  },
  {
   "cell_type": "markdown",
   "id": "12fda6b1",
   "metadata": {},
   "source": [
    "Therefore, we choose model 1"
   ]
  },
  {
   "cell_type": "markdown",
   "id": "b04bca5e",
   "metadata": {},
   "source": [
    "## Final Performance on the Test Dataset after Hyperparameter tuning"
   ]
  },
  {
   "cell_type": "code",
   "execution_count": 93,
   "id": "90fee9da",
   "metadata": {},
   "outputs": [],
   "source": [
    "test_df = pd.read_csv('data/alphabet/sign_mnist_test.csv')\n",
    "X_test, y_test = test_df.drop('label', axis=1), test_df['label']"
   ]
  },
  {
   "cell_type": "code",
   "execution_count": 94,
   "id": "588e05b8",
   "metadata": {},
   "outputs": [],
   "source": [
    "best_model = keras.models.load_model('models/parameter-tuning-dropout-1')"
   ]
  },
  {
   "cell_type": "code",
   "execution_count": 95,
   "id": "666818aa",
   "metadata": {},
   "outputs": [
    {
     "name": "stdout",
     "output_type": "stream",
     "text": [
      "225/225 [==============================] - 3s 14ms/step - loss: 46.4453 - accuracy: 0.9472\n",
      "Loss: 46.445 Accuracy: 0.947\n"
     ]
    }
   ],
   "source": [
    "evaluate_model(best_model, X_test, y_test, label_binarizer)"
   ]
  },
  {
   "cell_type": "markdown",
   "id": "a8090486",
   "metadata": {},
   "source": [
    "Accuracy: 95%"
   ]
  },
  {
   "cell_type": "code",
   "execution_count": 96,
   "id": "82643927",
   "metadata": {},
   "outputs": [],
   "source": [
    "test_df = pd.read_csv('data/alphabet/sign_mnist_test.csv')\n",
    "X_test, y_test = test_df.drop('label', axis=1), test_df['label']"
   ]
  },
  {
   "cell_type": "code",
   "execution_count": 97,
   "id": "5d02d431",
   "metadata": {},
   "outputs": [],
   "source": [
    "# Applying normalisation which is applied for X_train\n",
    "X_test /= 255.0"
   ]
  },
  {
   "cell_type": "code",
   "execution_count": 98,
   "id": "7332b757",
   "metadata": {},
   "outputs": [],
   "source": [
    "best_model = keras.models.load_model('models/parameter-tuning-dropout-1')"
   ]
  },
  {
   "cell_type": "code",
   "execution_count": 99,
   "id": "83bb851a",
   "metadata": {},
   "outputs": [
    {
     "name": "stdout",
     "output_type": "stream",
     "text": [
      "225/225 [==============================] - 3s 13ms/step - loss: 0.1310 - accuracy: 0.9707\n",
      "Loss: 0.131 Accuracy: 0.971\n"
     ]
    }
   ],
   "source": [
    "evaluate_model(best_model, X_test, y_test, label_binarizer)"
   ]
  },
  {
   "cell_type": "markdown",
   "id": "97e05057",
   "metadata": {},
   "source": [
    "Accuracy: 97%"
   ]
  },
  {
   "cell_type": "code",
   "execution_count": 85,
   "id": "a8248a34",
   "metadata": {},
   "outputs": [],
   "source": [
    "## Data Augmentation\n",
    "# Added more images data by rotating, zooming and translating original images\n",
    "# Increases the data, hence improves model performance and decreases overfitting\n",
    "\n",
    "# data_augmentation = keras.models.Sequential()\n",
    "# data_augmentation.add(keras.layers.RandomRotation(0.1, fill_mode='nearest', input_shape=(28, 28, 1)))\n",
    "# data_augmentation.add(keras.layers.RandomZoom((0.15, 0.2), fill_mode='nearest'))\n",
    "# data_augmentation.add(keras.layers.RandomTranslation(0.1, 0.1, fill_mode='nearest'))\n",
    "\n",
    "# model = keras.models.Sequential()\n",
    "# model.add(keras.layers.Conv2D(32, (5, 5), padding='same', activation='relu', input_shape=(28, 28, 1)))\n",
    "# model.add(keras.layers.MaxPooling2D(pool_size=(2, 2)))\n",
    "# model.add(keras.layers.Conv2D(64, (5, 5), padding='same', activation='relu'))\n",
    "# model.add(keras.layers.MaxPooling2D(pool_size=(2, 2)))\n",
    "# model.add(keras.layers.Conv2D(128, (5, 5), padding='same', activation='relu'))\n",
    "# model.add(keras.layers.MaxPooling2D(pool_size=(2, 2)))\n",
    "# model.add(keras.layers.Flatten())\n",
    "# model.add(keras.layers.Dense(128, activation='relu'))\n",
    "# model.add(keras.layers.Dense(24, activation='softmax'))\n",
    "\n",
    "# # Print summary of all layers\n",
    "# model.summary()"
   ]
  }
 ],
 "metadata": {
  "kernelspec": {
   "display_name": "Python 3",
   "language": "python",
   "name": "python3"
  },
  "language_info": {
   "codemirror_mode": {
    "name": "ipython",
    "version": 3
   },
   "file_extension": ".py",
   "mimetype": "text/x-python",
   "name": "python",
   "nbconvert_exporter": "python",
   "pygments_lexer": "ipython3",
   "version": "3.8.7"
  }
 },
 "nbformat": 4,
 "nbformat_minor": 5
}
